{
 "cells": [
  {
   "cell_type": "code",
   "execution_count": 7,
   "metadata": {},
   "outputs": [],
   "source": [
    "# physical_devices = tf.config.experimental.list_physical_devices('GPU')\n",
    "# tf.config.experimental.set_memory_growth(physical_devices[0], True)\n",
    "\n",
    "\n",
    "\n",
    "import numpy as np\n",
    "import pandas as pd\n",
    "import seaborn as sb\n",
    "sb.set_style(\"dark\")\n",
    "import matplotlib.pyplot as plt\n",
    "from sklearn.ensemble import RandomForestClassifier\n",
    "from sklearn.model_selection import train_test_split\n",
    "from sklearn.neighbors import KNeighborsClassifier\n",
    "from sklearn.decomposition import PCA\n",
    "from sklearn.preprocessing import StandardScaler\n",
    "\n",
    "train_df_org = pd.read_csv('kaggle/input/digit-recognizer/train.csv',  nrows=100)\n",
    "\n",
    "mnist_train_data = train_df_org.loc[:, \"pixel0\":]\n",
    "mnist_train_label = train_df_org.loc[:, \"label\"]"
   ]
  },
  {
   "cell_type": "code",
   "execution_count": 8,
   "metadata": {
    "collapsed": false,
    "jupyter": {
     "outputs_hidden": false
    },
    "pycharm": {
     "name": "#%%\n"
    }
   },
   "outputs": [],
   "source": [
    "\n",
    "\n",
    "import tensorflow as tf\n",
    "\n",
    "from tensorflow.keras import layers\n",
    "from tensorflow.keras.models import Model\n",
    "from tensorflow.keras import metrics\n",
    "from tensorflow.keras import backend as K\n",
    "from tensorflow.keras.models import Sequential\n",
    "from tensorflow.keras.layers import Dense, Dropout, Lambda, Flatten, BatchNormalization\n",
    "from tensorflow.keras.layers import Conv2D, MaxPool2D, AvgPool2D\n",
    "from tensorflow.keras.optimizers import Adadelta\n",
    "from keras.utils.np_utils import to_categorical\n",
    "from tensorflow.keras.preprocessing.image import ImageDataGenerator\n",
    "from tensorflow.keras.callbacks import ReduceLROnPlateau\n",
    "from tensorflow.keras.callbacks import LearningRateScheduler"
   ]
  },
  {
   "cell_type": "code",
   "execution_count": 9,
   "metadata": {
    "collapsed": false,
    "jupyter": {
     "outputs_hidden": false
    },
    "pycharm": {
     "name": "#%%\n"
    }
   },
   "outputs": [
    {
     "name": "stdout",
     "output_type": "stream",
     "text": [
      "(100, 28, 28, 1) (100,)\n"
     ]
    }
   ],
   "source": [
    "# Converting dataframe into arrays\n",
    "mnist_train_data = np.array(mnist_train_data)\n",
    "mnist_train_label = np.array(mnist_train_label)\n",
    "# Reshaping the input shapes to get it in the shape which the model expects to recieve later.\n",
    "mnist_train_data = mnist_train_data.reshape(mnist_train_data.shape[0], 28, 28, 1)\n",
    "print(mnist_train_data.shape, mnist_train_label.shape)"
   ]
  },
  {
   "cell_type": "code",
   "execution_count": 10,
   "metadata": {
    "collapsed": false,
    "jupyter": {
     "outputs_hidden": false
    },
    "pycharm": {
     "name": "#%%\n"
    }
   },
   "outputs": [
    {
     "name": "stdout",
     "output_type": "stream",
     "text": [
      "Shape of ytrain after encoding:  (100, 10)\n"
     ]
    }
   ],
   "source": [
    "nclasses = mnist_train_label.max() - mnist_train_label.min() + 1\n",
    "mnist_train_label = to_categorical(mnist_train_label, num_classes = nclasses)\n",
    "print(\"Shape of ytrain after encoding: \", mnist_train_label.shape)\n"
   ]
  },
  {
   "cell_type": "code",
   "execution_count": 11,
   "metadata": {
    "collapsed": false,
    "jupyter": {
     "outputs_hidden": false
    },
    "pycharm": {
     "name": "#%%\n"
    }
   },
   "outputs": [],
   "source": [
    "def build_model(input_shape=(28, 28, 1)):\n",
    "    model = Sequential()\n",
    "    model.add(Conv2D(32, kernel_size = 3, activation='relu', input_shape = input_shape))\n",
    "    model.add(BatchNormalization())\n",
    "    model.add(Conv2D(32, kernel_size = 3, activation='relu'))\n",
    "    model.add(BatchNormalization())\n",
    "    model.add(Conv2D(32, kernel_size = 5, strides=2, padding='same', activation='relu'))\n",
    "    model.add(BatchNormalization())\n",
    "    model.add(Dropout(0.4))\n",
    "\n",
    "    model.add(Conv2D(64, kernel_size = 3, activation='relu'))\n",
    "    model.add(BatchNormalization())\n",
    "    model.add(Conv2D(64, kernel_size = 3, activation='relu'))\n",
    "    model.add(BatchNormalization())\n",
    "    model.add(Conv2D(64, kernel_size = 5, strides=2, padding='same', activation='relu'))\n",
    "    model.add(BatchNormalization())\n",
    "    model.add(Dropout(0.4))\n",
    "\n",
    "    model.add(Conv2D(128, kernel_size = 4, activation='relu'))\n",
    "    model.add(BatchNormalization())\n",
    "    model.add(Flatten())\n",
    "    model.add(Dropout(0.4))\n",
    "    model.add(Dense(10, activation='softmax'))\n",
    "    return model\n",
    "\n",
    "\n",
    "def compile_model(model, optimizer='adam', loss='categorical_crossentropy'):\n",
    "    model.compile(optimizer=optimizer, loss=loss, metrics=[\"accuracy\"])\n",
    "\n",
    "\n",
    "def train_model(model, train, test, epochs, split):\n",
    "    history = model.fit(train, test, shuffle=True, epochs=epochs, validation_split=split)\n",
    "    return history"
   ]
  },
  {
   "cell_type": "code",
   "execution_count": 12,
   "metadata": {
    "collapsed": false,
    "jupyter": {
     "outputs_hidden": false
    },
    "pycharm": {
     "name": "#%%\n"
    }
   },
   "outputs": [
    {
     "name": "stdout",
     "output_type": "stream",
     "text": [
      "Epoch 1/20\n",
      "2/3 [===================>..........] - ETA: 0s - loss: 3.3771 - accuracy: 0.1094WARNING:tensorflow:Callbacks method `on_train_batch_end` is slow compared to the batch time (batch time: 0.0248s vs `on_train_batch_end` time: 0.0418s). Check your callbacks.\n",
      "3/3 [==============================] - 0s 112ms/step - loss: 3.3752 - accuracy: 0.1000 - val_loss: 2.2478 - val_accuracy: 0.1500\n",
      "Epoch 2/20\n",
      "3/3 [==============================] - 0s 62ms/step - loss: 2.4296 - accuracy: 0.2750 - val_loss: 2.1018 - val_accuracy: 0.2000\n",
      "Epoch 3/20\n",
      "3/3 [==============================] - 0s 60ms/step - loss: 1.8402 - accuracy: 0.4000 - val_loss: 1.9960 - val_accuracy: 0.3500\n",
      "Epoch 4/20\n",
      "3/3 [==============================] - 0s 63ms/step - loss: 1.3894 - accuracy: 0.5375 - val_loss: 1.9142 - val_accuracy: 0.3000\n",
      "Epoch 5/20\n",
      "3/3 [==============================] - 0s 58ms/step - loss: 0.8478 - accuracy: 0.6875 - val_loss: 1.8571 - val_accuracy: 0.3000\n",
      "Epoch 6/20\n",
      "3/3 [==============================] - 0s 64ms/step - loss: 0.6300 - accuracy: 0.8000 - val_loss: 1.8211 - val_accuracy: 0.3000\n",
      "Epoch 7/20\n",
      "3/3 [==============================] - 0s 63ms/step - loss: 0.6954 - accuracy: 0.7750 - val_loss: 1.7993 - val_accuracy: 0.3500\n",
      "Epoch 8/20\n",
      "3/3 [==============================] - 0s 63ms/step - loss: 0.5270 - accuracy: 0.8500 - val_loss: 1.7798 - val_accuracy: 0.3500\n",
      "Epoch 9/20\n",
      "3/3 [==============================] - 0s 66ms/step - loss: 0.3481 - accuracy: 0.9125 - val_loss: 1.7620 - val_accuracy: 0.3000\n",
      "Epoch 10/20\n",
      "3/3 [==============================] - 0s 65ms/step - loss: 0.4114 - accuracy: 0.8875 - val_loss: 1.7536 - val_accuracy: 0.3500\n",
      "Epoch 11/20\n",
      "3/3 [==============================] - 0s 66ms/step - loss: 0.4364 - accuracy: 0.8500 - val_loss: 1.7210 - val_accuracy: 0.4000\n",
      "Epoch 12/20\n",
      "3/3 [==============================] - 0s 63ms/step - loss: 0.2417 - accuracy: 0.9625 - val_loss: 1.6802 - val_accuracy: 0.4000\n",
      "Epoch 13/20\n",
      "3/3 [==============================] - 0s 67ms/step - loss: 0.2850 - accuracy: 0.9125 - val_loss: 1.6356 - val_accuracy: 0.4000\n",
      "Epoch 14/20\n",
      "3/3 [==============================] - 0s 66ms/step - loss: 0.1629 - accuracy: 0.9500 - val_loss: 1.5936 - val_accuracy: 0.4500\n",
      "Epoch 15/20\n",
      "3/3 [==============================] - 0s 63ms/step - loss: 0.1494 - accuracy: 0.9625 - val_loss: 1.5602 - val_accuracy: 0.4500\n",
      "Epoch 16/20\n",
      "3/3 [==============================] - 0s 65ms/step - loss: 0.1013 - accuracy: 1.0000 - val_loss: 1.5290 - val_accuracy: 0.4500\n",
      "Epoch 17/20\n",
      "3/3 [==============================] - 0s 66ms/step - loss: 0.0918 - accuracy: 0.9875 - val_loss: 1.5028 - val_accuracy: 0.4500\n",
      "Epoch 18/20\n",
      "3/3 [==============================] - 0s 65ms/step - loss: 0.0824 - accuracy: 1.0000 - val_loss: 1.4786 - val_accuracy: 0.4500\n",
      "Epoch 19/20\n",
      "3/3 [==============================] - 0s 65ms/step - loss: 0.0818 - accuracy: 1.0000 - val_loss: 1.4522 - val_accuracy: 0.5000\n",
      "Epoch 20/20\n",
      "3/3 [==============================] - 0s 69ms/step - loss: 0.0855 - accuracy: 0.9875 - val_loss: 1.4237 - val_accuracy: 0.5000\n"
     ]
    }
   ],
   "source": [
    "cnn_model = build_model((28, 28, 1))\n",
    "compile_model(cnn_model, 'adam', 'categorical_crossentropy')\n",
    "\n",
    "# train the model for as many epochs as you want but I found training it above 80 will not help us and eventually increase overfitting.\n",
    "model_history = train_model(cnn_model, mnist_train_data, mnist_train_label, 20, 0.2)"
   ]
  }
 ],
 "metadata": {
  "kernelspec": {
   "display_name": "Python 3",
   "language": "python",
   "name": "python3"
  },
  "language_info": {
   "codemirror_mode": {
    "name": "ipython",
    "version": 3
   },
   "file_extension": ".py",
   "mimetype": "text/x-python",
   "name": "python",
   "nbconvert_exporter": "python",
   "pygments_lexer": "ipython3",
   "version": "3.7.6"
  }
 },
 "nbformat": 4,
 "nbformat_minor": 4
}
