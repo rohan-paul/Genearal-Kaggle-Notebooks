{
 "cells": [
  {
   "cell_type": "code",
   "execution_count": 13,
   "metadata": {},
   "outputs": [],
   "source": [
    "# physical_devices = tf.config.experimental.list_physical_devices('GPU')\n",
    "# tf.config.experimental.set_memory_growth(physical_devices[0], True)\n",
    "\n",
    "\n",
    "\n",
    "import numpy as np\n",
    "import pandas as pd\n",
    "import seaborn as sb\n",
    "sb.set_style(\"dark\")\n",
    "import matplotlib.pyplot as plt\n",
    "from sklearn.ensemble import RandomForestClassifier\n",
    "from sklearn.model_selection import train_test_split\n",
    "from sklearn.neighbors import KNeighborsClassifier\n",
    "from sklearn.decomposition import PCA\n",
    "from sklearn.preprocessing import StandardScaler\n",
    "\n",
    "train_df_org = pd.read_csv('kaggle/input/digit-recognizer/train.csv',  nrows=100)\n",
    "\n",
    "mnist_train_data = train_df_org.loc[:, \"pixel0\":]\n",
    "mnist_train_label = train_df_org.loc[:, \"label\"]"
   ]
  },
  {
   "cell_type": "code",
   "execution_count": 14,
   "metadata": {
    "collapsed": false,
    "jupyter": {
     "outputs_hidden": false
    },
    "pycharm": {
     "name": "#%%\n"
    }
   },
   "outputs": [],
   "source": [
    "\n",
    "\n",
    "import tensorflow as tf\n",
    "\n",
    "from tensorflow.keras import layers\n",
    "from tensorflow.keras.models import Model\n",
    "from tensorflow.keras import metrics\n",
    "from tensorflow.keras import backend as K\n",
    "from tensorflow.keras.models import Sequential\n",
    "from tensorflow.keras.layers import Dense, Dropout, Lambda, Flatten, BatchNormalization\n",
    "from tensorflow.keras.layers import Conv2D, MaxPool2D, AvgPool2D\n",
    "from tensorflow.keras.optimizers import Adadelta\n",
    "from keras.utils.np_utils import to_categorical\n",
    "from tensorflow.keras.preprocessing.image import ImageDataGenerator\n",
    "from tensorflow.keras.callbacks import ReduceLROnPlateau\n",
    "from tensorflow.keras.callbacks import LearningRateScheduler"
   ]
  },
  {
   "cell_type": "code",
   "execution_count": 15,
   "metadata": {
    "collapsed": false,
    "jupyter": {
     "outputs_hidden": false
    },
    "pycharm": {
     "name": "#%%\n"
    }
   },
   "outputs": [
    {
     "name": "stdout",
     "output_type": "stream",
     "text": [
      "(100, 28, 28, 1) (100,)\n"
     ]
    }
   ],
   "source": [
    "# Converting dataframe into arrays\n",
    "mnist_train_data = np.array(mnist_train_data)\n",
    "mnist_train_label = np.array(mnist_train_label)\n",
    "# Reshaping the input shapes to get it in the shape which the model expects to recieve later.\n",
    "mnist_train_data = mnist_train_data.reshape(mnist_train_data.shape[0], 28, 28, 1)\n",
    "print(mnist_train_data.shape, mnist_train_label.shape)"
   ]
  },
  {
   "cell_type": "code",
   "execution_count": 16,
   "metadata": {
    "collapsed": false,
    "jupyter": {
     "outputs_hidden": false
    },
    "pycharm": {
     "name": "#%%\n"
    }
   },
   "outputs": [
    {
     "name": "stdout",
     "output_type": "stream",
     "text": [
      "Shape of ytrain after encoding:  (100, 10)\n"
     ]
    }
   ],
   "source": [
    "nclasses = mnist_train_label.max() - mnist_train_label.min() + 1\n",
    "mnist_train_label = to_categorical(mnist_train_label, num_classes = nclasses)\n",
    "print(\"Shape of ytrain after encoding: \", mnist_train_label.shape)\n"
   ]
  },
  {
   "cell_type": "code",
   "execution_count": 17,
   "metadata": {
    "collapsed": false,
    "jupyter": {
     "outputs_hidden": false
    },
    "pycharm": {
     "name": "#%%\n"
    }
   },
   "outputs": [],
   "source": [
    "def build_model(input_shape=(28, 28, 1)):\n",
    "    model = Sequential()\n",
    "    model.add(Conv2D(32, kernel_size = 3, activation='relu', input_shape = input_shape))\n",
    "    model.add(BatchNormalization())\n",
    "    model.add(Conv2D(32, kernel_size = 3, activation='relu'))\n",
    "    model.add(BatchNormalization())\n",
    "    model.add(Conv2D(32, kernel_size = 5, strides=2, padding='same', activation='relu'))\n",
    "    model.add(BatchNormalization())\n",
    "    model.add(Dropout(0.4))\n",
    "\n",
    "    model.add(Conv2D(64, kernel_size = 3, activation='relu'))\n",
    "    model.add(BatchNormalization())\n",
    "    model.add(Conv2D(64, kernel_size = 3, activation='relu'))\n",
    "    model.add(BatchNormalization())\n",
    "    model.add(Conv2D(64, kernel_size = 5, strides=2, padding='same', activation='relu'))\n",
    "    model.add(BatchNormalization())\n",
    "    model.add(Dropout(0.4))\n",
    "\n",
    "    model.add(Conv2D(128, kernel_size = 4, activation='relu'))\n",
    "    model.add(BatchNormalization())\n",
    "    model.add(Flatten())\n",
    "    model.add(Dropout(0.4))\n",
    "    model.add(Dense(10, activation='softmax'))\n",
    "    return model\n",
    "\n",
    "\n",
    "def compile_model(model, optimizer='adam', loss='categorical_crossentropy'):\n",
    "    model.compile(optimizer=optimizer, loss=loss, metrics=[\"accuracy\"])\n",
    "\n",
    "\n",
    "def train_model(model, train, test, epochs, split):\n",
    "    history = model.fit(train, test, shuffle=True, epochs=epochs, validation_split=split)\n",
    "    return history"
   ]
  },
  {
   "cell_type": "code",
   "execution_count": 18,
   "metadata": {
    "collapsed": false,
    "jupyter": {
     "outputs_hidden": false
    },
    "pycharm": {
     "name": "#%%\n"
    }
   },
   "outputs": [
    {
     "name": "stdout",
     "output_type": "stream",
     "text": [
      "Epoch 1/20\n",
      "3/3 [==============================] - 0s 105ms/step - loss: 3.3097 - accuracy: 0.1000 - val_loss: 2.6149 - val_accuracy: 0.1000\n",
      "Epoch 2/20\n",
      "3/3 [==============================] - 0s 59ms/step - loss: 2.1801 - accuracy: 0.3375 - val_loss: 2.4007 - val_accuracy: 0.1000\n",
      "Epoch 3/20\n",
      "3/3 [==============================] - 0s 59ms/step - loss: 1.2773 - accuracy: 0.5500 - val_loss: 2.3569 - val_accuracy: 0.0500\n",
      "Epoch 4/20\n",
      "3/3 [==============================] - 0s 59ms/step - loss: 1.1653 - accuracy: 0.6000 - val_loss: 2.3206 - val_accuracy: 0.0500\n",
      "Epoch 5/20\n",
      "3/3 [==============================] - 0s 60ms/step - loss: 0.9713 - accuracy: 0.6125 - val_loss: 2.3101 - val_accuracy: 0.0500\n",
      "Epoch 6/20\n",
      "3/3 [==============================] - 0s 115ms/step - loss: 0.7627 - accuracy: 0.7250 - val_loss: 2.3008 - val_accuracy: 0.0500\n",
      "Epoch 7/20\n",
      "3/3 [==============================] - 0s 59ms/step - loss: 0.4547 - accuracy: 0.8750 - val_loss: 2.2996 - val_accuracy: 0.0500\n",
      "Epoch 8/20\n",
      "3/3 [==============================] - 0s 107ms/step - loss: 0.2973 - accuracy: 0.9375 - val_loss: 2.3213 - val_accuracy: 0.1000\n",
      "Epoch 9/20\n",
      "3/3 [==============================] - 0s 58ms/step - loss: 0.3042 - accuracy: 0.9250 - val_loss: 2.3658 - val_accuracy: 0.1000\n",
      "Epoch 10/20\n",
      "3/3 [==============================] - 0s 60ms/step - loss: 0.2258 - accuracy: 0.9375 - val_loss: 2.3654 - val_accuracy: 0.1000\n",
      "Epoch 11/20\n",
      "3/3 [==============================] - 0s 64ms/step - loss: 0.2132 - accuracy: 0.9375 - val_loss: 2.3393 - val_accuracy: 0.1000\n",
      "Epoch 12/20\n",
      "3/3 [==============================] - 0s 59ms/step - loss: 0.1808 - accuracy: 0.9750 - val_loss: 2.2931 - val_accuracy: 0.2500\n",
      "Epoch 13/20\n",
      "3/3 [==============================] - 0s 64ms/step - loss: 0.1762 - accuracy: 0.9375 - val_loss: 2.2297 - val_accuracy: 0.2500\n",
      "Epoch 14/20\n",
      "3/3 [==============================] - 0s 59ms/step - loss: 0.1264 - accuracy: 0.9750 - val_loss: 2.1710 - val_accuracy: 0.2500\n",
      "Epoch 15/20\n",
      "3/3 [==============================] - 0s 64ms/step - loss: 0.1423 - accuracy: 0.9500 - val_loss: 2.1189 - val_accuracy: 0.2500\n",
      "Epoch 16/20\n",
      "3/3 [==============================] - 0s 59ms/step - loss: 0.1169 - accuracy: 0.9625 - val_loss: 2.0858 - val_accuracy: 0.2500\n",
      "Epoch 17/20\n",
      "3/3 [==============================] - 0s 65ms/step - loss: 0.1000 - accuracy: 1.0000 - val_loss: 2.0574 - val_accuracy: 0.3500\n",
      "Epoch 18/20\n",
      "3/3 [==============================] - 0s 58ms/step - loss: 0.0685 - accuracy: 0.9875 - val_loss: 2.0110 - val_accuracy: 0.3500\n",
      "Epoch 19/20\n",
      "3/3 [==============================] - 0s 64ms/step - loss: 0.0518 - accuracy: 1.0000 - val_loss: 1.9686 - val_accuracy: 0.4000\n",
      "Epoch 20/20\n",
      "3/3 [==============================] - 0s 67ms/step - loss: 0.0591 - accuracy: 1.0000 - val_loss: 1.9239 - val_accuracy: 0.4000\n"
     ]
    }
   ],
   "source": [
    "cnn_model = build_model((28, 28, 1))\n",
    "compile_model(cnn_model, 'adam', 'categorical_crossentropy')\n",
    "\n",
    "# train the model for as many epochs as you want but I found training it above 80 will not help us and eventually increase overfitting.\n",
    "model_history = train_model(cnn_model, mnist_train_data, mnist_train_label, 20, 0.2)"
   ]
  }
 ],
 "metadata": {
  "kernelspec": {
   "display_name": "Python 3",
   "language": "python",
   "name": "python3"
  },
  "language_info": {
   "codemirror_mode": {
    "name": "ipython",
    "version": 3
   },
   "file_extension": ".py",
   "mimetype": "text/x-python",
   "name": "python",
   "nbconvert_exporter": "python",
   "pygments_lexer": "ipython3",
   "version": "3.7.6"
  }
 },
 "nbformat": 4,
 "nbformat_minor": 4
}