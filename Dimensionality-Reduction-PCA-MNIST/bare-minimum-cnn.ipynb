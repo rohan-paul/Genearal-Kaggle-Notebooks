{
 "cells": [
  {
   "cell_type": "code",
   "execution_count": 56,
   "metadata": {},
   "outputs": [
    {
     "name": "stdout",
     "output_type": "stream",
     "text": [
      "   pixel0  pixel1  pixel2  pixel3  pixel4  pixel5  pixel6  pixel7  pixel8  \\\n",
      "0       0       0       0       0       0       0       0       0       0   \n",
      "1       0       0       0       0       0       0       0       0       0   \n",
      "2       0       0       0       0       0       0       0       0       0   \n",
      "3       0       0       0       0       0       0       0       0       0   \n",
      "4       0       0       0       0       0       0       0       0       0   \n",
      "\n",
      "   pixel9  ...  pixel774  pixel775  pixel776  pixel777  pixel778  pixel779  \\\n",
      "0       0  ...         0         0         0         0         0         0   \n",
      "1       0  ...         0         0         0         0         0         0   \n",
      "2       0  ...         0         0         0         0         0         0   \n",
      "3       0  ...         0         0         0         0         0         0   \n",
      "4       0  ...         0         0         0         0         0         0   \n",
      "\n",
      "   pixel780  pixel781  pixel782  pixel783  \n",
      "0         0         0         0         0  \n",
      "1         0         0         0         0  \n",
      "2         0         0         0         0  \n",
      "3         0         0         0         0  \n",
      "4         0         0         0         0  \n",
      "\n",
      "[5 rows x 784 columns]\n",
      "0    1\n",
      "1    0\n",
      "2    1\n",
      "3    4\n",
      "4    0\n",
      "Name: label, dtype: int64\n"
     ]
    }
   ],
   "source": [
    "# physical_devices = tf.config.experimental.list_physical_devices('GPU')\n",
    "# tf.config.experimental.set_memory_growth(physical_devices[0], True)\n",
    "\n",
    "\n",
    "\n",
    "import numpy as np\n",
    "import pandas as pd\n",
    "import seaborn as sb\n",
    "sb.set_style(\"dark\")\n",
    "import matplotlib.pyplot as plt\n",
    "from sklearn.ensemble import RandomForestClassifier\n",
    "from sklearn.model_selection import train_test_split\n",
    "from sklearn.neighbors import KNeighborsClassifier\n",
    "from sklearn.decomposition import PCA\n",
    "from sklearn.preprocessing import StandardScaler\n",
    "\n",
    "train_df_org = pd.read_csv('kaggle/input/digit-recognizer/train.csv',  nrows=1000)\n",
    "\n",
    "mnist_train_data = train_df_org.loc[:, \"pixel0\":]\n",
    "print(mnist_train_data.head())\n",
    "# print(mnist_train_data.shape) # (1000, 784)\n",
    "\n",
    "mnist_train_label = train_df_org.loc[:, \"label\"]\n",
    "print(mnist_train_label.head())\n",
    "# print(mnist_train_label.shape) # (1000,)\n"
   ]
  },
  {
   "cell_type": "code",
   "execution_count": 57,
   "metadata": {
    "collapsed": false,
    "jupyter": {
     "outputs_hidden": false
    },
    "pycharm": {
     "name": "#%%\n"
    }
   },
   "outputs": [],
   "source": [
    "\n",
    "\n",
    "import tensorflow as tf\n",
    "\n",
    "from tensorflow.keras import layers\n",
    "from tensorflow.keras.models import Model\n",
    "from tensorflow.keras import metrics\n",
    "from tensorflow.keras import backend as K\n",
    "from tensorflow.keras.models import Sequential\n",
    "from tensorflow.keras.layers import Dense, Dropout, Lambda, Flatten, BatchNormalization\n",
    "from tensorflow.keras.layers import Conv2D, MaxPool2D, AvgPool2D\n",
    "from tensorflow.keras.optimizers import Adadelta\n",
    "from keras.utils.np_utils import to_categorical\n",
    "from tensorflow.keras.preprocessing.image import ImageDataGenerator\n",
    "from tensorflow.keras.callbacks import ReduceLROnPlateau\n",
    "from tensorflow.keras.callbacks import LearningRateScheduler"
   ]
  },
  {
   "cell_type": "code",
   "execution_count": 58,
   "metadata": {
    "collapsed": false,
    "jupyter": {
     "outputs_hidden": false
    },
    "pycharm": {
     "name": "#%%\n"
    }
   },
   "outputs": [
    {
     "name": "stdout",
     "output_type": "stream",
     "text": [
      "(1000, 28, 28, 1) (1000,)\n"
     ]
    }
   ],
   "source": [
    "# Converting dataframe into arrays\n",
    "mnist_train_data = np.array(mnist_train_data)\n",
    "mnist_train_label = np.array(mnist_train_label)\n",
    "# Reshaping the input shapes to get it in the shape which the model expects to recieve later.\n",
    "mnist_train_data = mnist_train_data.reshape(mnist_train_data.shape[0], 28, 28, 1)\n",
    "print(mnist_train_data.shape, mnist_train_label.shape)"
   ]
  },
  {
   "cell_type": "code",
   "execution_count": 59,
   "metadata": {
    "collapsed": false,
    "jupyter": {
     "outputs_hidden": false
    },
    "pycharm": {
     "name": "#%%\n"
    }
   },
   "outputs": [
    {
     "name": "stdout",
     "output_type": "stream",
     "text": [
      "Shape of ytrain after encoding:  (1000, 10)\n"
     ]
    }
   ],
   "source": [
    "nclasses = mnist_train_label.max() - mnist_train_label.min() + 1\n",
    "mnist_train_label = to_categorical(mnist_train_label, num_classes = nclasses)\n",
    "print(\"Shape of ytrain after encoding: \", mnist_train_label.shape)\n"
   ]
  },
  {
   "cell_type": "code",
   "execution_count": 60,
   "metadata": {
    "collapsed": false,
    "jupyter": {
     "outputs_hidden": false
    },
    "pycharm": {
     "name": "#%%\n"
    }
   },
   "outputs": [],
   "source": [
    "def build_model(input_shape=(28, 28, 1)):\n",
    "    model = Sequential()\n",
    "    model.add(Conv2D(32, kernel_size = 3, activation='relu', input_shape = input_shape))\n",
    "    model.add(BatchNormalization())\n",
    "    model.add(Conv2D(32, kernel_size = 3, activation='relu'))\n",
    "    model.add(BatchNormalization())\n",
    "    model.add(Conv2D(32, kernel_size = 5, strides=2, padding='same', activation='relu'))\n",
    "    model.add(BatchNormalization())\n",
    "    model.add(Dropout(0.4))\n",
    "\n",
    "    model.add(Conv2D(64, kernel_size = 3, activation='relu'))\n",
    "    model.add(BatchNormalization())\n",
    "    model.add(Conv2D(64, kernel_size = 3, activation='relu'))\n",
    "    model.add(BatchNormalization())\n",
    "    model.add(Conv2D(64, kernel_size = 5, strides=2, padding='same', activation='relu'))\n",
    "    model.add(BatchNormalization())\n",
    "    model.add(Dropout(0.4))\n",
    "\n",
    "    model.add(Conv2D(128, kernel_size = 4, activation='relu'))\n",
    "    model.add(BatchNormalization())\n",
    "    model.add(Flatten())\n",
    "    model.add(Dropout(0.4))\n",
    "    model.add(Dense(10, activation='softmax'))\n",
    "    return model\n",
    "\n",
    "\n",
    "def compile_model(model, optimizer='adam', loss='categorical_crossentropy'):\n",
    "    model.compile(optimizer=optimizer, loss=loss, metrics=[\"accuracy\"])\n",
    "\n",
    "\n",
    "def train_model(model, train, test, epochs, split):\n",
    "    history = model.fit(train, test, shuffle=True, epochs=epochs, validation_split=split)\n",
    "    return history"
   ]
  },
  {
   "cell_type": "code",
   "execution_count": 61,
   "metadata": {
    "collapsed": false,
    "jupyter": {
     "outputs_hidden": false
    },
    "pycharm": {
     "name": "#%%\n"
    }
   },
   "outputs": [
    {
     "name": "stdout",
     "output_type": "stream",
     "text": [
      "Epoch 1/20\n",
      " 2/25 [=>............................] - ETA: 1s - loss: 3.3100 - accuracy: 0.1094WARNING:tensorflow:Callbacks method `on_train_batch_end` is slow compared to the batch time (batch time: 0.0029s vs `on_train_batch_end` time: 0.0568s). Check your callbacks.\n",
      "25/25 [==============================] - 2s 62ms/step - loss: 2.3521 - accuracy: 0.3150 - val_loss: 1.7041 - val_accuracy: 0.3150\n",
      "Epoch 2/20\n",
      "25/25 [==============================] - 1s 55ms/step - loss: 0.8390 - accuracy: 0.7163 - val_loss: 1.5060 - val_accuracy: 0.5500\n",
      "Epoch 3/20\n",
      "25/25 [==============================] - 1s 56ms/step - loss: 0.4901 - accuracy: 0.8425 - val_loss: 1.0632 - val_accuracy: 0.6450\n",
      "Epoch 4/20\n",
      "25/25 [==============================] - 1s 57ms/step - loss: 0.3548 - accuracy: 0.8875 - val_loss: 0.6909 - val_accuracy: 0.7650\n",
      "Epoch 5/20\n",
      "25/25 [==============================] - 1s 56ms/step - loss: 0.2804 - accuracy: 0.9187 - val_loss: 0.4130 - val_accuracy: 0.8650\n",
      "Epoch 6/20\n",
      "25/25 [==============================] - 1s 56ms/step - loss: 0.2403 - accuracy: 0.9237 - val_loss: 0.2996 - val_accuracy: 0.8950\n",
      "Epoch 7/20\n",
      "25/25 [==============================] - 1s 59ms/step - loss: 0.1724 - accuracy: 0.9463 - val_loss: 0.2041 - val_accuracy: 0.9300\n",
      "Epoch 8/20\n",
      "25/25 [==============================] - 1s 56ms/step - loss: 0.1537 - accuracy: 0.9525 - val_loss: 0.2109 - val_accuracy: 0.9250\n",
      "Epoch 9/20\n",
      "25/25 [==============================] - 1s 56ms/step - loss: 0.1294 - accuracy: 0.9588 - val_loss: 0.1745 - val_accuracy: 0.9600\n",
      "Epoch 10/20\n",
      "25/25 [==============================] - 1s 56ms/step - loss: 0.1070 - accuracy: 0.9688 - val_loss: 0.1770 - val_accuracy: 0.9450\n",
      "Epoch 11/20\n",
      "25/25 [==============================] - 1s 56ms/step - loss: 0.0899 - accuracy: 0.9825 - val_loss: 0.1890 - val_accuracy: 0.9400\n",
      "Epoch 12/20\n",
      "25/25 [==============================] - 1s 56ms/step - loss: 0.0895 - accuracy: 0.9712 - val_loss: 0.2210 - val_accuracy: 0.9350\n",
      "Epoch 13/20\n",
      "25/25 [==============================] - 1s 56ms/step - loss: 0.0880 - accuracy: 0.9762 - val_loss: 0.1774 - val_accuracy: 0.9350\n",
      "Epoch 14/20\n",
      "25/25 [==============================] - 1s 55ms/step - loss: 0.0456 - accuracy: 0.9925 - val_loss: 0.1990 - val_accuracy: 0.9500\n",
      "Epoch 15/20\n",
      "25/25 [==============================] - 1s 56ms/step - loss: 0.0492 - accuracy: 0.9850 - val_loss: 0.1812 - val_accuracy: 0.9350\n",
      "Epoch 16/20\n",
      "25/25 [==============================] - 1s 56ms/step - loss: 0.0501 - accuracy: 0.9912 - val_loss: 0.1733 - val_accuracy: 0.9350\n",
      "Epoch 17/20\n",
      "25/25 [==============================] - 1s 56ms/step - loss: 0.0376 - accuracy: 0.9937 - val_loss: 0.2311 - val_accuracy: 0.9200\n",
      "Epoch 18/20\n",
      "25/25 [==============================] - 1s 56ms/step - loss: 0.0229 - accuracy: 0.9987 - val_loss: 0.2291 - val_accuracy: 0.9300\n",
      "Epoch 19/20\n",
      "25/25 [==============================] - 1s 56ms/step - loss: 0.0383 - accuracy: 0.9937 - val_loss: 0.1914 - val_accuracy: 0.9400\n",
      "Epoch 20/20\n",
      "25/25 [==============================] - 1s 56ms/step - loss: 0.0329 - accuracy: 0.9900 - val_loss: 0.1709 - val_accuracy: 0.9550\n"
     ]
    }
   ],
   "source": [
    "cnn_model = build_model((28, 28, 1))\n",
    "compile_model(cnn_model, 'adam', 'categorical_crossentropy')\n",
    "\n",
    "# train the model for as many epochs as you want but I found training it above 80 will not help us and eventually increase overfitting.\n",
    "model_history = train_model(cnn_model, mnist_train_data, mnist_train_label, 20, 0.2)"
   ]
  }
 ],
 "metadata": {
  "kernelspec": {
   "display_name": "Python 3",
   "language": "python",
   "name": "python3"
  },
  "language_info": {
   "codemirror_mode": {
    "name": "ipython",
    "version": 3
   },
   "file_extension": ".py",
   "mimetype": "text/x-python",
   "name": "python",
   "nbconvert_exporter": "python",
   "pygments_lexer": "ipython3",
   "version": "3.7.6"
  }
 },
 "nbformat": 4,
 "nbformat_minor": 4
}